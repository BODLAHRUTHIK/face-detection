{
 "cells": [
  {
   "cell_type": "code",
   "execution_count": 1,
   "metadata": {},
   "outputs": [],
   "source": [
    "import pandas as pd\n",
    "import numpy as np\n",
    "import cv2"
   ]
  },
  {
   "cell_type": "code",
   "execution_count": 2,
   "metadata": {},
   "outputs": [
    {
     "name": "stdout",
     "output_type": "stream",
     "text": [
      "hru\n",
      "data saved successfully at hru.npy\n"
     ]
    }
   ],
   "source": [
    "import cv2\n",
    "import numpy as np\n",
    "cap = cv2.VideoCapture(0)\n",
    "face_cascade = cv2.CascadeClassifier('haarcascade_frontalface_alt.xml')\n",
    "skip = 0\n",
    "face_data = []\n",
    "file_name = input()\n",
    "while (True):\n",
    "    ret, frame = cap.read()\n",
    "    if ret == False:\n",
    "        continue\n",
    "    faces = face_cascade.detectMultiScale(frame, 1.3, 5)\n",
    "    faces = sorted(faces, key= lambda f:f[2]*f[3])\n",
    "    for face in faces[-1:]:\n",
    "        x, y, w, h = face\n",
    "        cv2.rectangle(frame, (x, y), (x+w, y+h),(0, 255, 255), 5)\n",
    "        offset = 20\n",
    "        face_section = frame[y-offset:y+h+offset, x-offset:x+w+offset]\n",
    "        face_section = cv2.resize(face_section, (100, 100))\n",
    "        skip += 1\n",
    "        cv2.imshow('face_section', face_section)\n",
    "        if skip%10 == 0:\n",
    "            face_data.append(face_section)\n",
    "#             print(len(face_data),'len')\n",
    "    cv2.imshow('frame', frame)\n",
    "    if cv2.waitKey(1) & 0xFF == ord('q'):\n",
    "        break\n",
    "face_data = np.array(face_data)\n",
    "face_data = face_data.reshape((face_data.shape[0], -1))\n",
    "np.save(file_name+'.npy', face_data)\n",
    "print('data saved successfully at '+file_name+'.npy')\n",
    "cap.release()\n",
    "cv2.destroyAllWindows()"
   ]
  },
  {
   "cell_type": "code",
   "execution_count": 3,
   "metadata": {},
   "outputs": [],
   "source": [
    "import os\n",
    "import numpy as np"
   ]
  },
  {
   "cell_type": "code",
   "execution_count": 4,
   "metadata": {},
   "outputs": [],
   "source": [
    "face_d = []\n",
    "d = {}\n",
    "mul = 0\n",
    "for fx in os.listdir():\n",
    "    if fx.endswith('.npy'):\n",
    "        data_item = np.load(fx)\n",
    "        y_column = mul*np.ones((len(data_item), 1))\n",
    "        d[mul] = fx[:-4]\n",
    "        mul+=1\n",
    "        data_item = np.concatenate((data_item, y_column), axis = 1)\n",
    "        face_d.append(data_item)"
   ]
  },
  {
   "cell_type": "code",
   "execution_count": 5,
   "metadata": {},
   "outputs": [],
   "source": [
    "x = np.concatenate(face_d, axis = 0)\n",
    "x_train = x[:, :-1]\n",
    "y_train = x[:, -1]"
   ]
  },
  {
   "cell_type": "code",
   "execution_count": 6,
   "metadata": {},
   "outputs": [],
   "source": [
    "# KNN algo\n",
    "from collections import Counter"
   ]
  },
  {
   "cell_type": "code",
   "execution_count": 7,
   "metadata": {},
   "outputs": [],
   "source": [
    "def predict_single(x_train, y_train, x, k):\n",
    "    distances = []\n",
    "    for i in range(len(x_train)):\n",
    "        distance = ((x_train[i]-x)**2).sum()\n",
    "        distances.append([distance, i])\n",
    "    distances  = sorted(distances)\n",
    "    target = []\n",
    "    for i in range(k):\n",
    "        index_corresponding_to_top_k = distances[i][1]\n",
    "        target.append(y_train[index_corresponding_to_top_k])\n",
    "    predicted_class = Counter(target).most_common(1)[0][0]\n",
    "    return predicted_class\n",
    "\n",
    "def predictKNN(x_train, y_train, x_test, k= 3):\n",
    "    result = []\n",
    "    for i in x_test:\n",
    "        predicted_class = predict_single(x_train, y_train, i, k)\n",
    "        result.append(predicted_class)\n",
    "    return result"
   ]
  },
  {
   "cell_type": "code",
   "execution_count": 8,
   "metadata": {},
   "outputs": [],
   "source": [
    "from sklearn.neighbors import KNeighborsClassifier\n",
    "def predict_KNN(x_train, y_train, x_test):\n",
    "    clf = KNeighborsClassifier(n_neighbors = 7)\n",
    "    clf.fit(x_train, y_train)\n",
    "    return clf.predict(x_test)"
   ]
  },
  {
   "cell_type": "code",
   "execution_count": 9,
   "metadata": {},
   "outputs": [],
   "source": [
    "# testing data\n",
    "import cv2"
   ]
  },
  {
   "cell_type": "code",
   "execution_count": 10,
   "metadata": {},
   "outputs": [
    {
     "name": "stdout",
     "output_type": "stream",
     "text": [
      "hru\n",
      "hru\n",
      "hru\n",
      "hru\n",
      "hru\n",
      "hru\n",
      "hru\n",
      "hru\n",
      "hru\n",
      "hru\n",
      "hru\n",
      "hru\n",
      "hru\n",
      "hru\n",
      "hru\n",
      "hru\n",
      "hru\n",
      "hru\n",
      "hru\n",
      "hru\n"
     ]
    }
   ],
   "source": [
    "cap = cv2.VideoCapture(0)\n",
    "face_cascade = cv2.CascadeClassifier('haarcascade_frontalface_alt.xml')\n",
    "while True:\n",
    "    ret, frame = cap.read()\n",
    "    if ret == False:\n",
    "        continue\n",
    "    faces = face_cascade.detectMultiScale(frame, 1.3, 5)\n",
    "    for face in faces:\n",
    "        x, y, w, h = face\n",
    "        offset = 20\n",
    "        face_section = frame[y-offset:y+h+offset, x-offset:x+w+offset]\n",
    "        face_section = cv2.resize(face_section, (100, 100))\n",
    "#         print(type(face_section))\n",
    "        face_section = face_section.reshape(1, -1)\n",
    "        predicted_class = predictKNN(x_train, y_train, face_section)\n",
    "        predicted_name = d[predicted_class[0]]\n",
    "        print(predicted_name)\n",
    "        cv2.putText(frame, predicted_name, (x, y-20), cv2.FONT_HERSHEY_SIMPLEX, 1, (0, 255, 255), 2, cv2.LINE_AA)\n",
    "        cv2.rectangle(frame, (x, y), (x+w, y+h), (0, 255, 255), 2)\n",
    "    cv2.imshow('faces', frame)\n",
    "    if cv2.waitKey(1) & 0xFF == ord('q'):\n",
    "        break\n",
    "cap.release()\n",
    "cv2.destroyAllWindows()"
   ]
  },
  {
   "cell_type": "code",
   "execution_count": null,
   "metadata": {},
   "outputs": [],
   "source": []
  },
  {
   "cell_type": "code",
   "execution_count": null,
   "metadata": {},
   "outputs": [],
   "source": []
  },
  {
   "cell_type": "code",
   "execution_count": null,
   "metadata": {},
   "outputs": [],
   "source": []
  },
  {
   "cell_type": "code",
   "execution_count": null,
   "metadata": {},
   "outputs": [],
   "source": []
  }
 ],
 "metadata": {
  "kernelspec": {
   "display_name": "Python 3",
   "language": "python",
   "name": "python3"
  },
  "language_info": {
   "codemirror_mode": {
    "name": "ipython",
    "version": 3
   },
   "file_extension": ".py",
   "mimetype": "text/x-python",
   "name": "python",
   "nbconvert_exporter": "python",
   "pygments_lexer": "ipython3",
   "version": "3.8.5"
  }
 },
 "nbformat": 4,
 "nbformat_minor": 4
}
